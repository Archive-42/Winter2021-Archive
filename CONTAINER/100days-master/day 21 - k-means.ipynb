{
 "cells": [
  {
   "cell_type": "code",
   "execution_count": 4,
   "metadata": {
    "collapsed": false
   },
   "outputs": [
    {
     "ename": "ModuleNotFoundError",
     "evalue": "No module named 'bokeh'",
     "output_type": "error",
     "traceback": [
      "\u001b[1;31m---------------------------------------------------------------------------\u001b[0m",
      "\u001b[1;31mModuleNotFoundError\u001b[0m                       Traceback (most recent call last)",
      "\u001b[1;32m<ipython-input-4-387fcef1ffe3>\u001b[0m in \u001b[0;36m<module>\u001b[1;34m\u001b[0m\n\u001b[0;32m      1\u001b[0m \u001b[1;32mimport\u001b[0m \u001b[0mnumpy\u001b[0m \u001b[1;32mas\u001b[0m \u001b[0mnp\u001b[0m\u001b[1;33m\u001b[0m\u001b[1;33m\u001b[0m\u001b[0m\n\u001b[1;32m----> 2\u001b[1;33m \u001b[1;32mfrom\u001b[0m \u001b[0mbokeh\u001b[0m\u001b[1;33m.\u001b[0m\u001b[0mplotting\u001b[0m \u001b[1;32mimport\u001b[0m \u001b[0mfigure\u001b[0m\u001b[1;33m,\u001b[0m \u001b[0mgridplot\u001b[0m\u001b[1;33m,\u001b[0m \u001b[0mshow\u001b[0m\u001b[1;33m,\u001b[0m \u001b[0moutput_notebook\u001b[0m\u001b[1;33m\u001b[0m\u001b[1;33m\u001b[0m\u001b[0m\n\u001b[0m",
      "\u001b[1;31mModuleNotFoundError\u001b[0m: No module named 'bokeh'"
     ]
    }
   ],
   "source": [
    "import numpy as np\n",
    "from bokeh.plotting import figure, gridplot, show, output_notebook"
   ]
  },
  {
   "cell_type": "markdown",
   "metadata": {},
   "source": [
    "## algorithm"
   ]
  },
  {
   "cell_type": "code",
   "execution_count": null,
   "metadata": {
    "collapsed": true
   },
   "outputs": [],
   "source": [
    "def kmeans(points, n_clusters):\n",
    "    # sample initial centroids\n",
    "    sample = np.random.choice(len(points), n_clusters, replace=False)\n",
    "    centroid = points[sample]\n",
    "    \n",
    "    loss = [-1, -2]\n",
    "    while not np.allclose(*loss):\n",
    "        # compute distance for each pair: point/centroid\n",
    "        distance = [np.sqrt(((points - c) ** 2).sum(1)) for c in centroid]\n",
    "        # new loss\n",
    "        loss = loss[1:] + [np.sum(distance)]\n",
    "        # assign new clusters\n",
    "        cluster = np.argmin(distance, axis=0)\n",
    "        # update centroids by new cluster means\n",
    "        for i in range(n_clusters):\n",
    "            centroid[i] = np.mean(points[cluster == i], axis=0)\n",
    "        \n",
    "    return cluster"
   ]
  },
  {
   "cell_type": "markdown",
   "metadata": {},
   "source": [
    "## run"
   ]
  },
  {
   "cell_type": "markdown",
   "metadata": {},
   "source": [
    "generate clusters"
   ]
  },
  {
   "cell_type": "code",
   "execution_count": null,
   "metadata": {
    "collapsed": false
   },
   "outputs": [],
   "source": [
    "n = 100\n",
    "A = np.random.multivariate_normal([2, 0], [[1, .1], [-4, 1]], n)\n",
    "B = np.random.multivariate_normal([-2, 0], [[1, -4], [.1, 1]], n)\n",
    "C = np.random.multivariate_normal([2, -2], [[1, 4], [-.1, 1]], n)\n",
    "D = ['red', 'green', 'blue']\n",
    "\n",
    "points = np.r_[A, B, C]\n",
    "original_color = np.repeat(D[:3], n)"
   ]
  },
  {
   "cell_type": "markdown",
   "metadata": {},
   "source": [
    "detect k-means clusters"
   ]
  },
  {
   "cell_type": "code",
   "execution_count": null,
   "metadata": {
    "collapsed": false
   },
   "outputs": [],
   "source": [
    "cluster = kmeans(points, 3)\n",
    "new_color = [D[i] for i in cluster]"
   ]
  },
  {
   "cell_type": "markdown",
   "metadata": {},
   "source": [
    "plot original and new clusters"
   ]
  },
  {
   "cell_type": "code",
   "execution_count": null,
   "metadata": {
    "collapsed": false
   },
   "outputs": [],
   "source": [
    "output_notebook()\n",
    "\n",
    "plot1 = figure(title='original clusters', plot_height=300)\n",
    "plot1.scatter(x=points[:, 0], y=points[:, 1], color=original_color)\n",
    "\n",
    "plot2 = figure(title='k-means clusters', plot_height=300)\n",
    "plot2.scatter(x=points[:, 0], y=points[:, 1], color=new_color)\n",
    "\n",
    "show(gridplot([[plot1], [plot2]]))"
   ]
  },
  {
   "cell_type": "code",
   "execution_count": null,
   "metadata": {
    "collapsed": true
   },
   "outputs": [],
   "source": []
  }
 ],
 "metadata": {
  "kernelspec": {
   "display_name": "Python 3",
   "language": "python",
   "name": "python3"
  },
  "language_info": {
   "codemirror_mode": {
    "name": "ipython",
    "version": 3
   },
   "file_extension": ".py",
   "mimetype": "text/x-python",
   "name": "python",
   "nbconvert_exporter": "python",
   "pygments_lexer": "ipython3",
   "version": "3.9.6"
  }
 },
 "nbformat": 4,
 "nbformat_minor": 2
}
