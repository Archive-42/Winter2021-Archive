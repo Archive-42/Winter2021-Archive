{
 "cells": [
  {
   "cell_type": "markdown",
   "metadata": {},
   "source": [
    "# Python Cheat Sheet\n",
    "\n",
    "Basic cheatsheet for Python mostly based on the book written by Al Sweigart, [Automate the Boring Stuff with Python](https://automatetheboringstuff.com/) under the [Creative Commons license](https://creativecommons.org/licenses/by-nc-sa/3.0/) and many other sources.\n",
    "\n",
    "## Read It\n",
    "\n",
    "- [Website](https://www.pythoncheatsheet.org)\n",
    "- [Github](https://github.com/wilfredinni/python-cheatsheet)\n",
    "- [PDF](https://github.com/wilfredinni/Python-cheatsheet/raw/master/python_cheat_sheet.pdf)\n",
    "- [Jupyter Notebook](https://mybinder.org/v2/gh/wilfredinni/python-cheatsheet/master?filepath=jupyter_notebooks)\n",
    "\n",
    "## args and kwargs\n",
    "\n",
    "The names `args and kwargs` are arbitrary - the important thing are the `*` and `**` operators. They can mean:\n",
    "\n",
    "1. In a function declaration, `*` means “pack all remaining positional arguments into a tuple named `<name>`”, while `**` is the same for keyword arguments (except it uses a dictionary, not a tuple).\n",
    "\n",
    "2. In a function call, `*` means “unpack tuple or list named `<name>` to positional arguments at this position”, while `**` is the same for keyword arguments.\n",
    "\n",
    "For example you can make a function that you can use to call any other function, no matter what parameters it has:"
   ]
  },
  {
   "cell_type": "code",
   "execution_count": null,
   "metadata": {},
   "outputs": [],
   "source": [
    "def forward(f, *args, **kwargs):\n",
    "    return f(*args, **kwargs)"
   ]
  },
  {
   "cell_type": "markdown",
   "metadata": {},
   "source": [
    "Inside forward, args is a tuple (of all positional arguments except the first one, because we specified it - the f), kwargs is a dict. Then we call f and unpack them so they become normal arguments to f.\n",
    "\n",
    "You use `*args` when you have an indefinite amount of positional arguments."
   ]
  },
  {
   "cell_type": "code",
   "execution_count": null,
   "metadata": {},
   "outputs": [],
   "source": [
    "def fruits(*args):\n",
    "   for fruit in args:\n",
    "      print(fruit)\n",
    "\n",
    "fruits(\"apples\", \"bananas\", \"grapes\")"
   ]
  },
  {
   "cell_type": "markdown",
   "metadata": {},
   "source": [
    "Similarly, you use `**kwargs` when you have an indefinite number of keyword arguments."
   ]
  },
  {
   "cell_type": "code",
   "execution_count": null,
   "metadata": {},
   "outputs": [],
   "source": [
    "def fruit(**kwargs):\n",
    "   for key, value in kwargs.items():\n",
    "       print(\"{0}: {1}\".format(key, value))\n",
    "\n",
    "fruit(name = \"apple\", color = \"red\")"
   ]
  },
  {
   "cell_type": "code",
   "execution_count": null,
   "metadata": {},
   "outputs": [],
   "source": [
    "def show(arg1, arg2, *args, kwarg1=None, kwarg2=None, **kwargs):\n",
    "  print(arg1)\n",
    "  print(arg2)\n",
    "  print(args)\n",
    "  print(kwarg1)\n",
    "  print(kwarg2)\n",
    "  print(kwargs)\n",
    "\n",
    "data1 = [1,2,3]\n",
    "data2 = [4,5,6]\n",
    "data3 = {'a':7,'b':8,'c':9}\n",
    "\n",
    "show(*data1,*data2, kwarg1=\"python\",kwarg2=\"cheatsheet\",**data3)"
   ]
  },
  {
   "cell_type": "code",
   "execution_count": null,
   "metadata": {},
   "outputs": [],
   "source": [
    "show(*data1, *data2, **data3)"
   ]
  },
  {
   "cell_type": "markdown",
   "metadata": {},
   "source": [
    "If you do not specify \\*\\* for kwargs"
   ]
  },
  {
   "cell_type": "code",
   "execution_count": null,
   "metadata": {},
   "outputs": [],
   "source": [
    "show(*data1, *data2, *data3)"
   ]
  },
  {
   "cell_type": "markdown",
   "metadata": {},
   "source": [
    "### Thinks to Remember(args)\n",
    "\n",
    "1. Functions can accept a variable number of positional arguments by using `*args` in the def statement.\n",
    "2. You can use the items from a sequence as the positional arguments for a function with the `*` operator.\n",
    "3. Using the `*` operator with a generator may cause your program to run out of memory and crash.\n",
    "4. Adding new positional parameters to functions that accept `*args` can introduce hard-to-find bugs.\n",
    "\n",
    "### Thinks to remember(kwargs)\n",
    "\n",
    "1. Function arguments can be specified by position or by keyword.\n",
    "2. Keywords make it clear what the purpose of each argument is when it would be confusing with only positional arguments.\n",
    "3. Keyword arguments with default values make it easy to add new behaviors to a function, especially when the function has existing callers.\n",
    "4. Optional keyword arguments should always be passed by keyword instead of by position."
   ]
  }
 ],
 "metadata": {
  "kernelspec": {
   "display_name": "Python 3",
   "language": "python",
   "name": "python3"
  },
  "language_info": {
   "codemirror_mode": {
    "name": "ipython",
    "version": 3
   },
   "file_extension": ".py",
   "mimetype": "text/x-python",
   "name": "python",
   "nbconvert_exporter": "python",
   "pygments_lexer": "ipython3",
   "version": "3.7.0"
  }
 },
 "nbformat": 4,
 "nbformat_minor": 2
}
